{
 "cells": [
  {
   "cell_type": "code",
   "execution_count": 2,
   "metadata": {},
   "outputs": [
    {
     "name": "stdout",
     "output_type": "stream",
     "text": [
      "(264, 63)\n",
      "             Country Code     Indicator Name Indicator Code       1960  \\\n",
      "Country Name                                                             \n",
      "Aruba                 ABW  Population, total    SP.POP.TOTL    54211.0   \n",
      "Afghanistan           AFG  Population, total    SP.POP.TOTL  8996351.0   \n",
      "Angola                AGO  Population, total    SP.POP.TOTL  5643182.0   \n",
      "Albania               ALB  Population, total    SP.POP.TOTL  1608800.0   \n",
      "Andorra               AND  Population, total    SP.POP.TOTL    13411.0   \n",
      "\n",
      "                   1961       1962       1963       1964       1965  \\\n",
      "Country Name                                                          \n",
      "Aruba           55438.0    56225.0    56695.0    57032.0    57360.0   \n",
      "Afghanistan   9166764.0  9345868.0  9533954.0  9731361.0  9938414.0   \n",
      "Angola        5753024.0  5866061.0  5980417.0  6093321.0  6203299.0   \n",
      "Albania       1659800.0  1711319.0  1762621.0  1814135.0  1864791.0   \n",
      "Andorra         14375.0    15370.0    16412.0    17469.0    18549.0   \n",
      "\n",
      "                    1966  ...        2010        2011        2012        2013  \\\n",
      "Country Name              ...                                                   \n",
      "Aruba            57715.0  ...    101669.0    102053.0    102577.0    103187.0   \n",
      "Afghanistan   10152331.0  ...  28803167.0  29708599.0  30696958.0  31731688.0   \n",
      "Angola         6309770.0  ...  23369131.0  24218565.0  25096150.0  25998340.0   \n",
      "Albania        1914573.0  ...   2913021.0   2905195.0   2900401.0   2895092.0   \n",
      "Andorra          19647.0  ...     84449.0     83751.0     82431.0     80788.0   \n",
      "\n",
      "                    2014        2015        2016        2017  2018  \\\n",
      "Country Name                                                         \n",
      "Aruba           103795.0    104341.0    104822.0    105264.0   NaN   \n",
      "Afghanistan   32758020.0  33736494.0  34656032.0  35530081.0   NaN   \n",
      "Angola        26920466.0  27859305.0  28813463.0  29784193.0   NaN   \n",
      "Albania        2889104.0   2880703.0   2876101.0   2873457.0   NaN   \n",
      "Andorra          79223.0     78014.0     77281.0     76965.0   NaN   \n",
      "\n",
      "              Unnamed: 63  \n",
      "Country Name               \n",
      "Aruba                 NaN  \n",
      "Afghanistan           NaN  \n",
      "Angola                NaN  \n",
      "Albania               NaN  \n",
      "Andorra               NaN  \n",
      "\n",
      "[5 rows x 63 columns]\n",
      "Index([u'Country Code', u'Indicator Name', u'Indicator Code', u'1960', u'1961',\n",
      "       u'1962', u'1963', u'1964', u'1965', u'1966', u'1967', u'1968', u'1969',\n",
      "       u'1970', u'1971', u'1972', u'1973', u'1974', u'1975', u'1976', u'1977',\n",
      "       u'1978', u'1979', u'1980', u'1981', u'1982', u'1983', u'1984', u'1985',\n",
      "       u'1986', u'1987', u'1988', u'1989', u'1990', u'1991', u'1992', u'1993',\n",
      "       u'1994', u'1995', u'1996', u'1997', u'1998', u'1999', u'2000', u'2001',\n",
      "       u'2002', u'2003', u'2004', u'2005', u'2006', u'2007', u'2008', u'2009',\n",
      "       u'2010', u'2011', u'2012', u'2013', u'2014', u'2015', u'2016', u'2017',\n",
      "       u'2018', u'Unnamed: 63'],\n",
      "      dtype='object')\n",
      "117815355.07692307\n",
      "Index([u'Country Code', u'Indicator Name', u'Indicator Code', u'1960', u'1961',\n",
      "       u'1962', u'1963', u'1964', u'1965', u'1966', u'1967', u'1968', u'1969',\n",
      "       u'1970', u'1971', u'1972', u'1973', u'1974', u'1975', u'1976', u'1977',\n",
      "       u'1978', u'1979', u'1980', u'1981', u'1982', u'1983', u'1984', u'1985',\n",
      "       u'1986', u'1987', u'1988', u'1989', u'1990', u'1991', u'1992', u'1993',\n",
      "       u'1994', u'1995', u'1996', u'1997', u'1998', u'1999', u'2000', u'2001',\n",
      "       u'2002', u'2003', u'2004', u'2005', u'2006', u'2007', u'2008', u'2009',\n",
      "       u'2010', u'2011', u'2012', u'2013', u'2014', u'2015', u'2016', u'2017',\n",
      "       u'2018', u'Unnamed: 63', u'join'],\n",
      "      dtype='object')\n"
     ]
    }
   ],
   "source": [
    "import pandas\n",
    "\n",
    "from matplotlib import pyplot, rc\n",
    "\n",
    "data1 = pandas.read_csv('data\\\\data1.csv', skiprows=4, index_col=\"Country Name\")\n",
    "#data1.to_excel('data\\\\output.xlsx', sheet_name='python_generated_population')\n",
    "print data1.shape\n",
    "print data1.head()\n",
    "print data1.columns\n",
    "print data1['1960'].mean()\n",
    "data1['join'] = data1['1960']+data1['1961']\n",
    "print data1.columns"
   ]
  },
  {
   "cell_type": "code",
   "execution_count": 8,
   "metadata": {},
   "outputs": [
    {
     "data": {
      "text/html": [
       "<div>\n",
       "<style scoped>\n",
       "    .dataframe tbody tr th:only-of-type {\n",
       "        vertical-align: middle;\n",
       "    }\n",
       "\n",
       "    .dataframe tbody tr th {\n",
       "        vertical-align: top;\n",
       "    }\n",
       "\n",
       "    .dataframe thead th {\n",
       "        text-align: right;\n",
       "    }\n",
       "</style>\n",
       "<table border=\"1\" class=\"dataframe\">\n",
       "  <thead>\n",
       "    <tr style=\"text-align: right;\">\n",
       "      <th></th>\n",
       "      <th>Country Code</th>\n",
       "      <th>Indicator Name</th>\n",
       "      <th>Indicator Code</th>\n",
       "      <th>1960</th>\n",
       "      <th>1961</th>\n",
       "      <th>1962</th>\n",
       "      <th>1963</th>\n",
       "      <th>1964</th>\n",
       "      <th>1965</th>\n",
       "      <th>1966</th>\n",
       "      <th>...</th>\n",
       "      <th>2011</th>\n",
       "      <th>2012</th>\n",
       "      <th>2013</th>\n",
       "      <th>2014</th>\n",
       "      <th>2015</th>\n",
       "      <th>2016</th>\n",
       "      <th>2017</th>\n",
       "      <th>2018</th>\n",
       "      <th>Unnamed: 63</th>\n",
       "      <th>join</th>\n",
       "    </tr>\n",
       "    <tr>\n",
       "      <th>Country Name</th>\n",
       "      <th></th>\n",
       "      <th></th>\n",
       "      <th></th>\n",
       "      <th></th>\n",
       "      <th></th>\n",
       "      <th></th>\n",
       "      <th></th>\n",
       "      <th></th>\n",
       "      <th></th>\n",
       "      <th></th>\n",
       "      <th></th>\n",
       "      <th></th>\n",
       "      <th></th>\n",
       "      <th></th>\n",
       "      <th></th>\n",
       "      <th></th>\n",
       "      <th></th>\n",
       "      <th></th>\n",
       "      <th></th>\n",
       "      <th></th>\n",
       "      <th></th>\n",
       "    </tr>\n",
       "  </thead>\n",
       "  <tbody>\n",
       "    <tr>\n",
       "      <th>Brazil</th>\n",
       "      <td>BRA</td>\n",
       "      <td>Population, total</td>\n",
       "      <td>SP.POP.TOTL</td>\n",
       "      <td>72207554.0</td>\n",
       "      <td>74351763.0</td>\n",
       "      <td>76573248.0</td>\n",
       "      <td>78854019.0</td>\n",
       "      <td>81168654.0</td>\n",
       "      <td>83498020.0</td>\n",
       "      <td>85837799.0</td>\n",
       "      <td>...</td>\n",
       "      <td>198686688.0</td>\n",
       "      <td>200560983.0</td>\n",
       "      <td>202408632.0</td>\n",
       "      <td>204213133.0</td>\n",
       "      <td>205962108.0</td>\n",
       "      <td>207652865.0</td>\n",
       "      <td>209288278.0</td>\n",
       "      <td>NaN</td>\n",
       "      <td>NaN</td>\n",
       "      <td>146559317.0</td>\n",
       "    </tr>\n",
       "  </tbody>\n",
       "</table>\n",
       "<p>1 rows × 64 columns</p>\n",
       "</div>"
      ],
      "text/plain": [
       "             Country Code     Indicator Name Indicator Code        1960  \\\n",
       "Country Name                                                              \n",
       "Brazil                BRA  Population, total    SP.POP.TOTL  72207554.0   \n",
       "\n",
       "                    1961        1962        1963        1964        1965  \\\n",
       "Country Name                                                               \n",
       "Brazil        74351763.0  76573248.0  78854019.0  81168654.0  83498020.0   \n",
       "\n",
       "                    1966  ...         2011         2012         2013  \\\n",
       "Country Name              ...                                          \n",
       "Brazil        85837799.0  ...  198686688.0  200560983.0  202408632.0   \n",
       "\n",
       "                     2014         2015         2016         2017  2018  \\\n",
       "Country Name                                                             \n",
       "Brazil        204213133.0  205962108.0  207652865.0  209288278.0   NaN   \n",
       "\n",
       "              Unnamed: 63         join  \n",
       "Country Name                            \n",
       "Brazil                NaN  146559317.0  \n",
       "\n",
       "[1 rows x 64 columns]"
      ]
     },
     "execution_count": 8,
     "metadata": {},
     "output_type": "execute_result"
    }
   ],
   "source": [
    "data1[\"Country Code\"]\n",
    "braData = data1[data1[\"Country Code\"]=='BRA']\n",
    "braData"
   ]
  },
  {
   "cell_type": "code",
   "execution_count": 12,
   "metadata": {},
   "outputs": [
    {
     "name": "stdout",
     "output_type": "stream",
     "text": [
      "['seaborn-darkgrid', 'Solarize_Light2', 'seaborn-notebook', 'classic', 'seaborn-ticks', 'grayscale', 'bmh', 'seaborn-talk', 'dark_background', 'ggplot', 'fivethirtyeight', '_classic_test', 'seaborn-colorblind', 'seaborn-deep', 'seaborn-whitegrid', 'seaborn-bright', 'seaborn-poster', 'seaborn-muted', 'seaborn-paper', 'seaborn-white', 'fast', 'seaborn-pastel', 'seaborn-dark', 'tableau-colorblind10', 'seaborn', 'seaborn-dark-palette']\n"
     ]
    }
   ],
   "source": [
    "print pyplot.style.available"
   ]
  },
  {
   "cell_type": "code",
   "execution_count": 15,
   "metadata": {},
   "outputs": [
    {
     "data": {
      "text/plain": [
       "<matplotlib.axes._subplots.AxesSubplot at 0x1877bef0>"
      ]
     },
     "execution_count": 15,
     "metadata": {},
     "output_type": "execute_result"
    },
    {
     "data": {
      "image/png": "[encoded data removed]",
      "text/plain": [
       "<Figure size 640x480 with 1 Axes>"
      ]
     },
     "metadata": {},
     "output_type": "display_data"
    }
   ],
   "source": [
    "pyplot.style.use('seaborn-darkgrid')\n",
    "font = {'family':'Courier New'}\n",
    "rc('font',**font)\n",
    "selected_years = ['1960','1970','1980','1990']\n",
    "braData.plot(kind='bar', y=selected_years, fontsize=17)"
   ]
  }
 ],
 "metadata": {
  "kernelspec": {
   "display_name": "Python 2",
   "language": "python",
   "name": "python2"
  },
  "language_info": {
   "codemirror_mode": {
    "name": "ipython",
    "version": 2
   },
   "file_extension": ".py",
   "mimetype": "text/x-python",
   "name": "python",
   "nbconvert_exporter": "python",
   "pygments_lexer": "ipython2",
   "version": "2.7.15"
  }
 },
 "nbformat": 4,
 "nbformat_minor": 2
}
