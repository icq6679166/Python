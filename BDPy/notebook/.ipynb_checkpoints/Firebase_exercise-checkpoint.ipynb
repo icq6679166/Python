{
 "cells": [
  {
   "cell_type": "code",
   "execution_count": 1,
   "metadata": {
    "collapsed": true
   },
   "outputs": [
    {
     "name": "stdout",
     "output_type": "stream",
     "text": [
      "200 \"hello BDPY\"\n",
      "200 \"中文\"\n",
      "200 \"萬國碼也可以\"\n"
     ]
    }
   ],
   "source": [
    "#encoding=UTF-8\n",
    "import requests\n",
    "\n",
    "# base_url = 'YOUR_BASE_URL/%s.json'\n",
    "base_url = 'https://andbiz1222.firebaseio.com/%s.json'\n",
    "url1 = base_url % 'data1_string'\n",
    "r1 = requests.put(url1, json='hello BDPY')\n",
    "print r1.status_code, r1.content\n",
    "\n",
    "url2 = base_url %'data2_chinese'\n",
    "r2 = requests.put(url2, json='中文')\n",
    "print r2.status_code, r2.content\n",
    "\n",
    "url3 = base_url %'data3_unicode'\n",
    "r3 = requests.put(url3, json=u'萬國碼也可以')\n",
    "print r3.status_code, r3.content\n"
   ]
  },
  {
   "cell_type": "code",
   "execution_count": 2,
   "metadata": {
    "collapsed": true
   },
   "outputs": [
    {
     "name": "stdout",
     "output_type": "stream",
     "text": [
      "base_url\t r1\t r2\t r3\t requests\t url1\t url2\t url3\t \n"
     ]
    }
   ],
   "source": [
    "who"
   ]
  },
  {
   "cell_type": "code",
   "execution_count": 3,
   "metadata": {},
   "outputs": [
    {
     "name": "stdout",
     "output_type": "stream",
     "text": [
      "200 {\"location\":\"台北\",\"name\":\"BDPY\"}\n"
     ]
    }
   ],
   "source": [
    "dict1 = {'name':'BDPY','location':u'台北'}\n",
    "url4 = base_url % 'data4_dict'\n",
    "r4 = requests.put(url4, json=dict1)\n",
    "print r4.status_code, r4.content"
   ]
  },
  {
   "cell_type": "code",
   "execution_count": 7,
   "metadata": {},
   "outputs": [],
   "source": [
    "import matplotlib.pyplot as plt"
   ]
  },
  {
   "cell_type": "code",
   "execution_count": 8,
   "metadata": {},
   "outputs": [
    {
     "data": {
      "text/plain": [
       "[<matplotlib.lines.Line2D at 0x12baa390>]"
      ]
     },
     "execution_count": 8,
     "metadata": {},
     "output_type": "execute_result"
    },
    {
     "data": {
      "image/png": "[encoded data removed]",
      "text/plain": [
       "<Figure size 432x288 with 1 Axes>"
      ]
     },
     "metadata": {
      "needs_background": "light"
     },
     "output_type": "display_data"
    }
   ],
   "source": [
    "x1 = range(0,10)\n",
    "plt.plot(x1, x1, 'bx')"
   ]
  },
  {
   "cell_type": "code",
   "execution_count": 10,
   "metadata": {},
   "outputs": [
    {
     "name": "stdout",
     "output_type": "stream",
     "text": [
      "200 [100,3.14,true,null,\"hello world\",\"萬國碼\",{\"location\":\"台北\",\"name\":\"BDPY\"}]\n"
     ]
    }
   ],
   "source": [
    "list1 = [100, 3.14, True, None, \"hello world\", u'萬國碼', dict1]\n",
    "url5 = base_url%'data5_list'\n",
    "r5 = requests.put(url5, json=list1)\n",
    "print r5.status_code, r5.content"
   ]
  },
  {
   "cell_type": "markdown",
   "metadata": {},
   "source": [
    "# patch ==> update"
   ]
  },
  {
   "cell_type": "code",
   "execution_count": 12,
   "metadata": {},
   "outputs": [
    {
     "name": "stdout",
     "output_type": "stream",
     "text": [
      "200 {\"instructor\":\"Mark Ho\",\"location\":\"台北南京復興站\"}\n"
     ]
    }
   ],
   "source": [
    "dict_to_patch = {'instructor':'Mark Ho', 'location':u'台北南京復興站'}\n",
    "url4 = base_url % 'data4_dict'\n",
    "r6 = requests.patch(url4, json=dict_to_patch)\n",
    "print r6.status_code, r6.content"
   ]
  },
  {
   "cell_type": "code",
   "execution_count": 14,
   "metadata": {},
   "outputs": [
    {
     "name": "stdout",
     "output_type": "stream",
     "text": [
      "200 {\"0\":\"change to something else\",\"3\":\"現在新增一點資料\"}\n"
     ]
    }
   ],
   "source": [
    "dict_to_patch2 = {'0':'change to something else','3':u'現在新增一點資料'}\n",
    "url5 = base_url%'data5_list'\n",
    "r7 = requests.patch(url5, json=dict_to_patch2)\n",
    "print r7.status_code, r7.content"
   ]
  },
  {
   "cell_type": "code",
   "execution_count": 16,
   "metadata": {},
   "outputs": [
    {
     "name": "stdout",
     "output_type": "stream",
     "text": [
      "200 {\"name\":\"-LaxFXJqsTyfMEeb2gK-\"}\n",
      "200 {\"name\":\"-LaxFXT6ACIv0qX0phfh\"}\n",
      "200 {\"name\":\"-LaxFXbL4qJN4RZDyfcq\"}\n",
      "200 {\"name\":\"-LaxFXkddrYlszntAaYX\"}\n",
      "200 {\"name\":\"-LaxFXts4BB3DtY8ycRO\"}\n",
      "200 {\"name\":\"-LaxFY25m-2c6RISLaxn\"}\n",
      "200 {\"name\":\"-LaxFYBPAtpuV5VCZTtZ\"}\n",
      "200 {\"name\":\"-LaxFYKacNJzuTHUvgE9\"}\n",
      "200 {\"name\":\"-LaxFYTs20Iz5w6yyevc\"}\n",
      "200 {\"name\":\"-LaxFYc7cCVjCM5420MH\"}\n"
     ]
    }
   ],
   "source": [
    "for i in range(0,10):\n",
    "    record = {'user':'Mark','bid':'%d coin'%(i)}\n",
    "    url6 = base_url%'bidding'\n",
    "    r8 = requests.post(url6,json=record)\n",
    "    print r8.status_code, r8.content"
   ]
  },
  {
   "cell_type": "code",
   "execution_count": 17,
   "metadata": {},
   "outputs": [
    {
     "name": "stdout",
     "output_type": "stream",
     "text": [
      "base_url\t dict1\t dict_to_patch\t dict_to_patch2\t i\t list1\t matplotlib\t plt\t r1\t \n",
      "r2\t r3\t r4\t r5\t r6\t r7\t r8\t record\t requests\t \n",
      "url1\t url2\t url3\t url4\t url5\t url6\t x1\t \n"
     ]
    }
   ],
   "source": [
    "who"
   ]
  },
  {
   "cell_type": "code",
   "execution_count": 24,
   "metadata": {},
   "outputs": [
    {
     "data": {
      "text/plain": [
       "(str, '\"hello BDPY\"')"
      ]
     },
     "execution_count": 24,
     "metadata": {},
     "output_type": "execute_result"
    }
   ],
   "source": [
    "result1 = requests.get(url1)\n",
    "type(result1.content), result1.content"
   ]
  },
  {
   "cell_type": "code",
   "execution_count": 29,
   "metadata": {},
   "outputs": [
    {
     "name": "stdout",
     "output_type": "stream",
     "text": [
      "\"中文\"\n"
     ]
    }
   ],
   "source": [
    "result2 = requests.get(url2)\n",
    "print result2.content"
   ]
  },
  {
   "cell_type": "code",
   "execution_count": 30,
   "metadata": {},
   "outputs": [
    {
     "name": "stdout",
     "output_type": "stream",
     "text": [
      "\"萬國碼也可以\"\n"
     ]
    }
   ],
   "source": [
    "result3 = requests.get(url3)\n",
    "print result3.content"
   ]
  },
  {
   "cell_type": "code",
   "execution_count": 36,
   "metadata": {},
   "outputs": [
    {
     "name": "stdout",
     "output_type": "stream",
     "text": [
      "<type 'str'> {\"instructor\":\"Mark Ho\",\"location\":\"台北南京復興站\",\"name\":\"BDPY\"}\n",
      "<type 'dict'> {u'instructor': u'Mark Ho', u'location': u'\\u53f0\\u5317\\u5357\\u4eac\\u5fa9\\u8208\\u7ad9', u'name': u'BDPY'}\n",
      "key= instructor  ,value= Mark Ho\n",
      "key= location  ,value= 台北南京復興站\n",
      "key= name  ,value= BDPY\n"
     ]
    }
   ],
   "source": [
    "result4 = requests.get(url4)\n",
    "print type(result4.content), result4.content\n",
    "print type(result4.json()), result4.json()\n",
    "for k in result4.json():\n",
    "    print 'key=',k,' ,value=',result4.json()[k] "
   ]
  },
  {
   "cell_type": "code",
   "execution_count": 37,
   "metadata": {},
   "outputs": [
    {
     "name": "stdout",
     "output_type": "stream",
     "text": [
      "change to something else 3.14 True 現在新增一點資料 hello world 萬國碼 {u'location': u'\\u53f0\\u5317', u'name': u'BDPY'}\n"
     ]
    }
   ],
   "source": [
    "result5 = requests.get(url5)\n",
    "returnList = result5.json()\n",
    "for o in returnList:\n",
    "    print o,"
   ]
  },
  {
   "cell_type": "code",
   "execution_count": 42,
   "metadata": {},
   "outputs": [
    {
     "name": "stdout",
     "output_type": "stream",
     "text": [
      "k= bid ,v= 4 coin\n",
      "k= user ,v= Mark\n",
      "k= bid ,v= 9 coin\n",
      "k= user ,v= Mark\n",
      "k= bid ,v= 6 coin\n",
      "k= user ,v= Mark\n",
      "k= bid ,v= 4 coin\n",
      "k= user ,v= Mark\n",
      "k= bid ,v= 8 coin\n",
      "k= user ,v= Mark\n",
      "k= bid ,v= 5 coin\n",
      "k= user ,v= Mark\n",
      "k= bid ,v= 1 coin\n",
      "k= user ,v= Mark\n",
      "k= bid ,v= 2 coin\n",
      "k= user ,v= Mark\n",
      "k= bid ,v= 7 coin\n",
      "k= user ,v= Mark\n",
      "k= bid ,v= 3 coin\n",
      "k= user ,v= Mark\n",
      "k= bid ,v= 0 coin\n",
      "k= user ,v= Mark\n"
     ]
    }
   ],
   "source": [
    "returnValue = requests.get(url6).json()\n",
    "type(returnValue)\n",
    "for k,v in returnValue.items():\n",
    "    #print 'k=',k,'v=',v\n",
    "    for ik, iv in v.items():\n",
    "        print 'k=',ik,',v=',iv"
   ]
  },
  {
   "cell_type": "code",
   "execution_count": null,
   "metadata": {},
   "outputs": [],
   "source": []
  },
  {
   "cell_type": "code",
   "execution_count": null,
   "metadata": {},
   "outputs": [],
   "source": []
  },
  {
   "cell_type": "code",
   "execution_count": null,
   "metadata": {},
   "outputs": [],
   "source": []
  },
  {
   "cell_type": "code",
   "execution_count": null,
   "metadata": {},
   "outputs": [],
   "source": []
  },
  {
   "cell_type": "code",
   "execution_count": null,
   "metadata": {},
   "outputs": [],
   "source": []
  },
  {
   "cell_type": "code",
   "execution_count": null,
   "metadata": {},
   "outputs": [],
   "source": []
  },
  {
   "cell_type": "code",
   "execution_count": null,
   "metadata": {},
   "outputs": [],
   "source": []
  },
  {
   "cell_type": "code",
   "execution_count": null,
   "metadata": {},
   "outputs": [],
   "source": []
  }
 ],
 "metadata": {
  "kernelspec": {
   "display_name": "Python 2",
   "language": "python",
   "name": "python2"
  },
  "language_info": {
   "codemirror_mode": {
    "name": "ipython",
    "version": 2
   },
   "file_extension": ".py",
   "mimetype": "text/x-python",
   "name": "python",
   "nbconvert_exporter": "python",
   "pygments_lexer": "ipython2",
   "version": "2.7.15"
  }
 },
 "nbformat": 4,
 "nbformat_minor": 2
}
